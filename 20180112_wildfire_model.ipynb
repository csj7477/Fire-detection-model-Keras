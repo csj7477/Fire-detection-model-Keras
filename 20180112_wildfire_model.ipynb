{
 "cells": [
  {
   "cell_type": "code",
   "execution_count": 1,
   "metadata": {
    "collapsed": true
   },
   "outputs": [],
   "source": [
    "import numpy as np\n",
    "import cv2\n",
    "%matplotlib inline\n",
    "import matplotlib.pyplot as plt"
   ]
  },
  {
   "cell_type": "code",
   "execution_count": 71,
   "metadata": {},
   "outputs": [],
   "source": [
    "tot_video_cnt = 0\n",
    "width = 400\n",
    "height = 240\n",
    "\n",
    "ds_x = []\n",
    "ds_y = [] \n",
    "\n",
    "ts_x = []\n",
    "ts_y = [] \n",
    "\n",
    "class wildfire:\n",
    "\n",
    "    #num_pt : 1 => fire, 0 => no_fire\n",
    "    #cnt : frame cut count\n",
    "    #FileName : Video file name \n",
    "    def generate_dataset(main,frCnt,num_pt,capture_cnt,FileName):\n",
    "        \n",
    "        cap_cnt = 0\n",
    "        frame_cnt = 0 #프레임갯수\n",
    "        cap = cv2.VideoCapture(FileName)\n",
    "        mog = cv2.createBackgroundSubtractorMOG2()\n",
    "        \n",
    "        while True:\n",
    "        \n",
    "            if cap_cnt == capture_cnt:\n",
    "                break\n",
    "            print(\"filename:{}, cnt:{}\".format(FileName,cap_cnt+1)) \n",
    "            \n",
    "            frame_cnt += 1 # 프레임 갯수\n",
    "            \n",
    "            if (frame_cnt%frCnt) == 0:             \n",
    "            \n",
    "                ret, frame = cap.read()\n",
    "                if ret == False:\n",
    "                    break\n",
    "\n",
    "                dst = cv2.fastNlMeansDenoisingColored(frame,None,25,25,7,21)    \n",
    "                fgmask = mog.apply(dst)\n",
    "                ds_x.append(fgmask)\n",
    "                ds_y.append(num_pt)\n",
    "\n",
    "                cap_cnt += 1\n",
    "\n",
    "        cap.release()      \n",
    "\n",
    "    #num_pt : 1 => fire, 0 => no_fire\n",
    "    #cnt : frame cut count\n",
    "    #FileName : Video file name \n",
    "    def test_dataset(main,frCnt,num_pt,capture_cnt,FileName):\n",
    "        \n",
    "        cap_cnt = 0\n",
    "        frame_cnt = 0 #프레임갯수\n",
    "        cap = cv2.VideoCapture(FileName)\n",
    "        mog = cv2.createBackgroundSubtractorMOG2()\n",
    "        \n",
    "        while True:\n",
    "        \n",
    "            if cap_cnt == capture_cnt:\n",
    "                break\n",
    "            print(\"filename:{}, cnt:{}\".format(FileName,cap_cnt+1)) \n",
    "            \n",
    "            frame_cnt += 1 # 프레임 갯수\n",
    "            \n",
    "            if (frame_cnt%frCnt) == 0:             \n",
    "            \n",
    "                ret, frame = cap.read()\n",
    "                if ret == False:\n",
    "                    break\n",
    "\n",
    "                dst = cv2.fastNlMeansDenoisingColored(frame,None,25,25,7,21)    \n",
    "                fgmask = mog.apply(dst)\n",
    "                ts_x.append(fgmask)\n",
    "                ts_y.append(num_pt)\n",
    "\n",
    "                cap_cnt += 1\n",
    "\n",
    "        cap.release()   "
   ]
  },
  {
   "cell_type": "code",
   "execution_count": 72,
   "metadata": {},
   "outputs": [
    {
     "name": "stdout",
     "output_type": "stream",
     "text": [
      "filename:dalma_400240.mp4, cnt:1\n",
      "filename:dalma_400240.mp4, cnt:2\n",
      "filename:dalma_400240.mp4, cnt:3\n",
      "filename:dalma_400240.mp4, cnt:4\n",
      "filename:dalma_400240.mp4, cnt:5\n",
      "filename:dalma_400240.mp4, cnt:6\n",
      "filename:dalma_400240.mp4, cnt:7\n",
      "filename:dalma_400240.mp4, cnt:8\n",
      "filename:dalma_400240.mp4, cnt:9\n",
      "filename:dalma_400240.mp4, cnt:10\n"
     ]
    }
   ],
   "source": [
    "wf = wildfire()\n",
    "video_cnt = 10\n",
    "wf.generate_dataset(1,20,video_cnt,'dalma_400240.mp4') # param : 메인변수, 건너뛸 프레임갯수, 캡처화면수, video명\n",
    "tot_video_cnt += video_cnt"
   ]
  },
  {
   "cell_type": "code",
   "execution_count": 76,
   "metadata": {},
   "outputs": [
    {
     "name": "stdout",
     "output_type": "stream",
     "text": [
      "filename:gwanak_400240.mp4, cnt:1\n",
      "filename:gwanak_400240.mp4, cnt:2\n",
      "filename:gwanak_400240.mp4, cnt:3\n",
      "filename:gwanak_400240.mp4, cnt:4\n",
      "filename:gwanak_400240.mp4, cnt:5\n",
      "filename:gwanak_400240.mp4, cnt:6\n",
      "filename:gwanak_400240.mp4, cnt:7\n",
      "filename:gwanak_400240.mp4, cnt:8\n",
      "filename:gwanak_400240.mp4, cnt:9\n",
      "filename:gwanak_400240.mp4, cnt:10\n",
      "filename:gwanak_400240.mp4, cnt:11\n",
      "filename:gwanak_400240.mp4, cnt:12\n",
      "filename:gwanak_400240.mp4, cnt:13\n",
      "filename:gwanak_400240.mp4, cnt:14\n",
      "filename:gwanak_400240.mp4, cnt:15\n",
      "filename:gwanak_400240.mp4, cnt:16\n",
      "filename:gwanak_400240.mp4, cnt:17\n",
      "filename:gwanak_400240.mp4, cnt:18\n",
      "filename:gwanak_400240.mp4, cnt:19\n",
      "filename:gwanak_400240.mp4, cnt:20\n",
      "filename:gwanak_400240.mp4, cnt:21\n",
      "filename:gwanak_400240.mp4, cnt:22\n",
      "filename:gwanak_400240.mp4, cnt:23\n",
      "filename:gwanak_400240.mp4, cnt:24\n",
      "filename:gwanak_400240.mp4, cnt:25\n",
      "filename:gwanak_400240.mp4, cnt:26\n",
      "filename:gwanak_400240.mp4, cnt:27\n",
      "filename:gwanak_400240.mp4, cnt:28\n",
      "filename:gwanak_400240.mp4, cnt:29\n",
      "filename:gwanak_400240.mp4, cnt:30\n"
     ]
    }
   ],
   "source": [
    "video_cnt = 30\n",
    "wf.generate_dataset(1,80,video_cnt,'gwanak_400240.mp4') # param : 메인변수, 건너뛸 프레임갯수, 캡처화면수, video명\n",
    "tot_video_cnt += video_cnt"
   ]
  },
  {
   "cell_type": "code",
   "execution_count": 74,
   "metadata": {},
   "outputs": [],
   "source": [
    "X_train = np.array(ds_x).reshape(tot_video_cnt,width,height,1)\n",
    "y_train = np.array(ds_y).reshape(tot_video_cnt, 1)"
   ]
  },
  {
   "cell_type": "code",
   "execution_count": 75,
   "metadata": {},
   "outputs": [
    {
     "data": {
      "text/plain": [
       "(20, 400, 240, 1)"
      ]
     },
     "execution_count": 75,
     "metadata": {},
     "output_type": "execute_result"
    }
   ],
   "source": [
    "X_train.shape"
   ]
  },
  {
   "cell_type": "code",
   "execution_count": 62,
   "metadata": {},
   "outputs": [],
   "source": [
    "X_val = np.array(ds_x).reshape(tot_video_cnt,width,height,1)\n",
    "y_val = np.array(ds_y).reshape(tot_video_cnt, 1)"
   ]
  },
  {
   "cell_type": "code",
   "execution_count": 77,
   "metadata": {},
   "outputs": [
    {
     "name": "stdout",
     "output_type": "stream",
     "text": [
      "filename:no_fire_1.mp4, cnt:1\n",
      "filename:no_fire_1.mp4, cnt:2\n",
      "filename:no_fire_1.mp4, cnt:3\n",
      "filename:no_fire_1.mp4, cnt:4\n",
      "filename:no_fire_1.mp4, cnt:5\n",
      "filename:no_fire_1.mp4, cnt:6\n",
      "filename:no_fire_1.mp4, cnt:7\n",
      "filename:no_fire_1.mp4, cnt:8\n",
      "filename:no_fire_1.mp4, cnt:9\n",
      "filename:no_fire_1.mp4, cnt:10\n"
     ]
    }
   ],
   "source": [
    "video_cnt1 = 10\n",
    "wf.test_dataset(1,20,video_cnt1,'no_fire_1.mp4') # param : 메인변수, 건너뛸 프레임갯수, 캡처화면수, video명"
   ]
  },
  {
   "cell_type": "code",
   "execution_count": 78,
   "metadata": {
    "collapsed": true
   },
   "outputs": [],
   "source": [
    "X_test = np.array(ts_x).reshape(video_cnt1,width,height,1)\n",
    "y_test = np.array(ts_y).reshape(video_cnt1, 1)"
   ]
  },
  {
   "cell_type": "code",
   "execution_count": 79,
   "metadata": {},
   "outputs": [
    {
     "name": "stderr",
     "output_type": "stream",
     "text": [
      "Using TensorFlow backend.\n"
     ]
    }
   ],
   "source": [
    "from keras.models import Sequential\n",
    "from keras.layers import Dense\n",
    "from keras.layers import Conv2D\n",
    "from keras.layers import MaxPooling2D\n",
    "from keras.layers import Flatten\n",
    "from keras.layers import Dropout\n",
    "\n",
    "#2. 모델1 구성하기\n",
    "model = Sequential()\n",
    "model.add(Conv2D(32, (3, 3), activation='relu', input_shape=(width, height, 1)))\n",
    "model.add(MaxPooling2D(pool_size=(2, 2)))\n",
    "model.add(Dropout(0.5))\n",
    "model.add(Conv2D(32, (3, 3), activation='relu'))\n",
    "model.add(MaxPooling2D(pool_size=(2, 2)))\n",
    "model.add(Dropout(0.5))\n",
    "model.add(Flatten())\n",
    "model.add(Dense(256, activation='relu'))\n",
    "model.add(Dropout(0.5))\n",
    "model.add(Dense(1, activation='sigmoid'))"
   ]
  },
  {
   "cell_type": "code",
   "execution_count": 80,
   "metadata": {
    "collapsed": true
   },
   "outputs": [],
   "source": [
    "model.compile(loss='binary_crossentropy', optimizer='adam', metrics=['accuracy'])"
   ]
  },
  {
   "cell_type": "code",
   "execution_count": 81,
   "metadata": {},
   "outputs": [
    {
     "name": "stdout",
     "output_type": "stream",
     "text": [
      "Epoch 1/20\n",
      "20/20 [==============================] - 18s - loss: -64.5381 - acc: 0.0000e+00\n",
      "Epoch 2/20\n",
      "20/20 [==============================] - 2s - loss: -175.0977 - acc: 0.0000e+00\n",
      "Epoch 3/20\n",
      "20/20 [==============================] - 2s - loss: -258.9075 - acc: 0.0000e+00\n",
      "Epoch 4/20\n",
      "20/20 [==============================] - 2s - loss: -476.4812 - acc: 0.0000e+00\n",
      "Epoch 5/20\n",
      "20/20 [==============================] - 2s - loss: -775.7010 - acc: 0.0000e+00\n",
      "Epoch 6/20\n",
      "20/20 [==============================] - 3s - loss: -781.1769 - acc: 0.0000e+00\n",
      "Epoch 7/20\n",
      "20/20 [==============================] - 3s - loss: -781.1769 - acc: 0.0000e+00\n",
      "Epoch 8/20\n",
      "20/20 [==============================] - 2s - loss: -781.1769 - acc: 0.0000e+00\n",
      "Epoch 9/20\n",
      "20/20 [==============================] - 2s - loss: -781.1769 - acc: 0.0000e+00\n",
      "Epoch 10/20\n",
      "20/20 [==============================] - 2s - loss: -781.1769 - acc: 0.0000e+00\n",
      "Epoch 11/20\n",
      "20/20 [==============================] - 3s - loss: -781.1769 - acc: 0.0000e+00\n",
      "Epoch 12/20\n",
      "20/20 [==============================] - 2s - loss: -781.1769 - acc: 0.0000e+00\n",
      "Epoch 13/20\n"
     ]
    },
    {
     "ename": "KeyboardInterrupt",
     "evalue": "",
     "output_type": "error",
     "traceback": [
      "\u001b[1;31m---------------------------------------------------------------------------\u001b[0m",
      "\u001b[1;31mKeyboardInterrupt\u001b[0m                         Traceback (most recent call last)",
      "\u001b[1;32m<ipython-input-81-59839c43b21c>\u001b[0m in \u001b[0;36m<module>\u001b[1;34m()\u001b[0m\n\u001b[0;32m      1\u001b[0m \u001b[1;31m# 5. 모델 학습시키기\u001b[0m\u001b[1;33m\u001b[0m\u001b[1;33m\u001b[0m\u001b[0m\n\u001b[1;32m----> 2\u001b[1;33m \u001b[0mmodel\u001b[0m\u001b[1;33m.\u001b[0m\u001b[0mfit\u001b[0m\u001b[1;33m(\u001b[0m\u001b[0mX_train\u001b[0m\u001b[1;33m,\u001b[0m \u001b[0my_train\u001b[0m\u001b[1;33m,\u001b[0m \u001b[0mepochs\u001b[0m\u001b[1;33m=\u001b[0m\u001b[1;36m20\u001b[0m\u001b[1;33m,\u001b[0m \u001b[0mbatch_size\u001b[0m\u001b[1;33m=\u001b[0m\u001b[1;36m32\u001b[0m\u001b[1;33m)\u001b[0m\u001b[1;33m\u001b[0m\u001b[0m\n\u001b[0m",
      "\u001b[1;32mC:\\Users\\acorn\\Anaconda3\\lib\\site-packages\\keras\\models.py\u001b[0m in \u001b[0;36mfit\u001b[1;34m(self, x, y, batch_size, epochs, verbose, callbacks, validation_split, validation_data, shuffle, class_weight, sample_weight, initial_epoch, **kwargs)\u001b[0m\n\u001b[0;32m    865\u001b[0m                               \u001b[0mclass_weight\u001b[0m\u001b[1;33m=\u001b[0m\u001b[0mclass_weight\u001b[0m\u001b[1;33m,\u001b[0m\u001b[1;33m\u001b[0m\u001b[0m\n\u001b[0;32m    866\u001b[0m                               \u001b[0msample_weight\u001b[0m\u001b[1;33m=\u001b[0m\u001b[0msample_weight\u001b[0m\u001b[1;33m,\u001b[0m\u001b[1;33m\u001b[0m\u001b[0m\n\u001b[1;32m--> 867\u001b[1;33m                               initial_epoch=initial_epoch)\n\u001b[0m\u001b[0;32m    868\u001b[0m \u001b[1;33m\u001b[0m\u001b[0m\n\u001b[0;32m    869\u001b[0m     def evaluate(self, x, y, batch_size=32, verbose=1,\n",
      "\u001b[1;32mC:\\Users\\acorn\\Anaconda3\\lib\\site-packages\\keras\\engine\\training.py\u001b[0m in \u001b[0;36mfit\u001b[1;34m(self, x, y, batch_size, epochs, verbose, callbacks, validation_split, validation_data, shuffle, class_weight, sample_weight, initial_epoch, steps_per_epoch, validation_steps, **kwargs)\u001b[0m\n\u001b[0;32m   1596\u001b[0m                               \u001b[0minitial_epoch\u001b[0m\u001b[1;33m=\u001b[0m\u001b[0minitial_epoch\u001b[0m\u001b[1;33m,\u001b[0m\u001b[1;33m\u001b[0m\u001b[0m\n\u001b[0;32m   1597\u001b[0m                               \u001b[0msteps_per_epoch\u001b[0m\u001b[1;33m=\u001b[0m\u001b[0msteps_per_epoch\u001b[0m\u001b[1;33m,\u001b[0m\u001b[1;33m\u001b[0m\u001b[0m\n\u001b[1;32m-> 1598\u001b[1;33m                               validation_steps=validation_steps)\n\u001b[0m\u001b[0;32m   1599\u001b[0m \u001b[1;33m\u001b[0m\u001b[0m\n\u001b[0;32m   1600\u001b[0m     def evaluate(self, x, y,\n",
      "\u001b[1;32mC:\\Users\\acorn\\Anaconda3\\lib\\site-packages\\keras\\engine\\training.py\u001b[0m in \u001b[0;36m_fit_loop\u001b[1;34m(self, f, ins, out_labels, batch_size, epochs, verbose, callbacks, val_f, val_ins, shuffle, callback_metrics, initial_epoch, steps_per_epoch, validation_steps)\u001b[0m\n\u001b[0;32m   1181\u001b[0m                     \u001b[0mbatch_logs\u001b[0m\u001b[1;33m[\u001b[0m\u001b[1;34m'size'\u001b[0m\u001b[1;33m]\u001b[0m \u001b[1;33m=\u001b[0m \u001b[0mlen\u001b[0m\u001b[1;33m(\u001b[0m\u001b[0mbatch_ids\u001b[0m\u001b[1;33m)\u001b[0m\u001b[1;33m\u001b[0m\u001b[0m\n\u001b[0;32m   1182\u001b[0m                     \u001b[0mcallbacks\u001b[0m\u001b[1;33m.\u001b[0m\u001b[0mon_batch_begin\u001b[0m\u001b[1;33m(\u001b[0m\u001b[0mbatch_index\u001b[0m\u001b[1;33m,\u001b[0m \u001b[0mbatch_logs\u001b[0m\u001b[1;33m)\u001b[0m\u001b[1;33m\u001b[0m\u001b[0m\n\u001b[1;32m-> 1183\u001b[1;33m                     \u001b[0mouts\u001b[0m \u001b[1;33m=\u001b[0m \u001b[0mf\u001b[0m\u001b[1;33m(\u001b[0m\u001b[0mins_batch\u001b[0m\u001b[1;33m)\u001b[0m\u001b[1;33m\u001b[0m\u001b[0m\n\u001b[0m\u001b[0;32m   1184\u001b[0m                     \u001b[1;32mif\u001b[0m \u001b[1;32mnot\u001b[0m \u001b[0misinstance\u001b[0m\u001b[1;33m(\u001b[0m\u001b[0mouts\u001b[0m\u001b[1;33m,\u001b[0m \u001b[0mlist\u001b[0m\u001b[1;33m)\u001b[0m\u001b[1;33m:\u001b[0m\u001b[1;33m\u001b[0m\u001b[0m\n\u001b[0;32m   1185\u001b[0m                         \u001b[0mouts\u001b[0m \u001b[1;33m=\u001b[0m \u001b[1;33m[\u001b[0m\u001b[0mouts\u001b[0m\u001b[1;33m]\u001b[0m\u001b[1;33m\u001b[0m\u001b[0m\n",
      "\u001b[1;32mC:\\Users\\acorn\\Anaconda3\\lib\\site-packages\\keras\\backend\\tensorflow_backend.py\u001b[0m in \u001b[0;36m__call__\u001b[1;34m(self, inputs)\u001b[0m\n\u001b[0;32m   2271\u001b[0m         updated = session.run(self.outputs + [self.updates_op],\n\u001b[0;32m   2272\u001b[0m                               \u001b[0mfeed_dict\u001b[0m\u001b[1;33m=\u001b[0m\u001b[0mfeed_dict\u001b[0m\u001b[1;33m,\u001b[0m\u001b[1;33m\u001b[0m\u001b[0m\n\u001b[1;32m-> 2273\u001b[1;33m                               **self.session_kwargs)\n\u001b[0m\u001b[0;32m   2274\u001b[0m         \u001b[1;32mreturn\u001b[0m \u001b[0mupdated\u001b[0m\u001b[1;33m[\u001b[0m\u001b[1;33m:\u001b[0m\u001b[0mlen\u001b[0m\u001b[1;33m(\u001b[0m\u001b[0mself\u001b[0m\u001b[1;33m.\u001b[0m\u001b[0moutputs\u001b[0m\u001b[1;33m)\u001b[0m\u001b[1;33m]\u001b[0m\u001b[1;33m\u001b[0m\u001b[0m\n\u001b[0;32m   2275\u001b[0m \u001b[1;33m\u001b[0m\u001b[0m\n",
      "\u001b[1;32mC:\\Users\\acorn\\Anaconda3\\lib\\site-packages\\tensorflow\\python\\client\\session.py\u001b[0m in \u001b[0;36mrun\u001b[1;34m(self, fetches, feed_dict, options, run_metadata)\u001b[0m\n\u001b[0;32m    787\u001b[0m     \u001b[1;32mtry\u001b[0m\u001b[1;33m:\u001b[0m\u001b[1;33m\u001b[0m\u001b[0m\n\u001b[0;32m    788\u001b[0m       result = self._run(None, fetches, feed_dict, options_ptr,\n\u001b[1;32m--> 789\u001b[1;33m                          run_metadata_ptr)\n\u001b[0m\u001b[0;32m    790\u001b[0m       \u001b[1;32mif\u001b[0m \u001b[0mrun_metadata\u001b[0m\u001b[1;33m:\u001b[0m\u001b[1;33m\u001b[0m\u001b[0m\n\u001b[0;32m    791\u001b[0m         \u001b[0mproto_data\u001b[0m \u001b[1;33m=\u001b[0m \u001b[0mtf_session\u001b[0m\u001b[1;33m.\u001b[0m\u001b[0mTF_GetBuffer\u001b[0m\u001b[1;33m(\u001b[0m\u001b[0mrun_metadata_ptr\u001b[0m\u001b[1;33m)\u001b[0m\u001b[1;33m\u001b[0m\u001b[0m\n",
      "\u001b[1;32mC:\\Users\\acorn\\Anaconda3\\lib\\site-packages\\tensorflow\\python\\client\\session.py\u001b[0m in \u001b[0;36m_run\u001b[1;34m(self, handle, fetches, feed_dict, options, run_metadata)\u001b[0m\n\u001b[0;32m    995\u001b[0m     \u001b[1;32mif\u001b[0m \u001b[0mfinal_fetches\u001b[0m \u001b[1;32mor\u001b[0m \u001b[0mfinal_targets\u001b[0m\u001b[1;33m:\u001b[0m\u001b[1;33m\u001b[0m\u001b[0m\n\u001b[0;32m    996\u001b[0m       results = self._do_run(handle, final_targets, final_fetches,\n\u001b[1;32m--> 997\u001b[1;33m                              feed_dict_string, options, run_metadata)\n\u001b[0m\u001b[0;32m    998\u001b[0m     \u001b[1;32melse\u001b[0m\u001b[1;33m:\u001b[0m\u001b[1;33m\u001b[0m\u001b[0m\n\u001b[0;32m    999\u001b[0m       \u001b[0mresults\u001b[0m \u001b[1;33m=\u001b[0m \u001b[1;33m[\u001b[0m\u001b[1;33m]\u001b[0m\u001b[1;33m\u001b[0m\u001b[0m\n",
      "\u001b[1;32mC:\\Users\\acorn\\Anaconda3\\lib\\site-packages\\tensorflow\\python\\client\\session.py\u001b[0m in \u001b[0;36m_do_run\u001b[1;34m(self, handle, target_list, fetch_list, feed_dict, options, run_metadata)\u001b[0m\n\u001b[0;32m   1130\u001b[0m     \u001b[1;32mif\u001b[0m \u001b[0mhandle\u001b[0m \u001b[1;32mis\u001b[0m \u001b[1;32mNone\u001b[0m\u001b[1;33m:\u001b[0m\u001b[1;33m\u001b[0m\u001b[0m\n\u001b[0;32m   1131\u001b[0m       return self._do_call(_run_fn, self._session, feed_dict, fetch_list,\n\u001b[1;32m-> 1132\u001b[1;33m                            target_list, options, run_metadata)\n\u001b[0m\u001b[0;32m   1133\u001b[0m     \u001b[1;32melse\u001b[0m\u001b[1;33m:\u001b[0m\u001b[1;33m\u001b[0m\u001b[0m\n\u001b[0;32m   1134\u001b[0m       return self._do_call(_prun_fn, self._session, handle, feed_dict,\n",
      "\u001b[1;32mC:\\Users\\acorn\\Anaconda3\\lib\\site-packages\\tensorflow\\python\\client\\session.py\u001b[0m in \u001b[0;36m_do_call\u001b[1;34m(self, fn, *args)\u001b[0m\n\u001b[0;32m   1137\u001b[0m   \u001b[1;32mdef\u001b[0m \u001b[0m_do_call\u001b[0m\u001b[1;33m(\u001b[0m\u001b[0mself\u001b[0m\u001b[1;33m,\u001b[0m \u001b[0mfn\u001b[0m\u001b[1;33m,\u001b[0m \u001b[1;33m*\u001b[0m\u001b[0margs\u001b[0m\u001b[1;33m)\u001b[0m\u001b[1;33m:\u001b[0m\u001b[1;33m\u001b[0m\u001b[0m\n\u001b[0;32m   1138\u001b[0m     \u001b[1;32mtry\u001b[0m\u001b[1;33m:\u001b[0m\u001b[1;33m\u001b[0m\u001b[0m\n\u001b[1;32m-> 1139\u001b[1;33m       \u001b[1;32mreturn\u001b[0m \u001b[0mfn\u001b[0m\u001b[1;33m(\u001b[0m\u001b[1;33m*\u001b[0m\u001b[0margs\u001b[0m\u001b[1;33m)\u001b[0m\u001b[1;33m\u001b[0m\u001b[0m\n\u001b[0m\u001b[0;32m   1140\u001b[0m     \u001b[1;32mexcept\u001b[0m \u001b[0merrors\u001b[0m\u001b[1;33m.\u001b[0m\u001b[0mOpError\u001b[0m \u001b[1;32mas\u001b[0m \u001b[0me\u001b[0m\u001b[1;33m:\u001b[0m\u001b[1;33m\u001b[0m\u001b[0m\n\u001b[0;32m   1141\u001b[0m       \u001b[0mmessage\u001b[0m \u001b[1;33m=\u001b[0m \u001b[0mcompat\u001b[0m\u001b[1;33m.\u001b[0m\u001b[0mas_text\u001b[0m\u001b[1;33m(\u001b[0m\u001b[0me\u001b[0m\u001b[1;33m.\u001b[0m\u001b[0mmessage\u001b[0m\u001b[1;33m)\u001b[0m\u001b[1;33m\u001b[0m\u001b[0m\n",
      "\u001b[1;32mC:\\Users\\acorn\\Anaconda3\\lib\\site-packages\\tensorflow\\python\\client\\session.py\u001b[0m in \u001b[0;36m_run_fn\u001b[1;34m(session, feed_dict, fetch_list, target_list, options, run_metadata)\u001b[0m\n\u001b[0;32m   1119\u001b[0m         return tf_session.TF_Run(session, options,\n\u001b[0;32m   1120\u001b[0m                                  \u001b[0mfeed_dict\u001b[0m\u001b[1;33m,\u001b[0m \u001b[0mfetch_list\u001b[0m\u001b[1;33m,\u001b[0m \u001b[0mtarget_list\u001b[0m\u001b[1;33m,\u001b[0m\u001b[1;33m\u001b[0m\u001b[0m\n\u001b[1;32m-> 1121\u001b[1;33m                                  status, run_metadata)\n\u001b[0m\u001b[0;32m   1122\u001b[0m \u001b[1;33m\u001b[0m\u001b[0m\n\u001b[0;32m   1123\u001b[0m     \u001b[1;32mdef\u001b[0m \u001b[0m_prun_fn\u001b[0m\u001b[1;33m(\u001b[0m\u001b[0msession\u001b[0m\u001b[1;33m,\u001b[0m \u001b[0mhandle\u001b[0m\u001b[1;33m,\u001b[0m \u001b[0mfeed_dict\u001b[0m\u001b[1;33m,\u001b[0m \u001b[0mfetch_list\u001b[0m\u001b[1;33m)\u001b[0m\u001b[1;33m:\u001b[0m\u001b[1;33m\u001b[0m\u001b[0m\n",
      "\u001b[1;31mKeyboardInterrupt\u001b[0m: "
     ]
    }
   ],
   "source": [
    "# 5. 모델 학습시키기\n",
    "model.fit(X_train, y_train, epochs=20, batch_size=32)"
   ]
  },
  {
   "cell_type": "code",
   "execution_count": null,
   "metadata": {
    "collapsed": true
   },
   "outputs": [],
   "source": [
    "# 7. 모델 평가하기\n",
    "score = model.evaluate(X_test, y_test, batch_size=32)\n",
    "print(score)"
   ]
  }
 ],
 "metadata": {
  "kernelspec": {
   "display_name": "Python 3",
   "language": "python",
   "name": "python3"
  },
  "language_info": {
   "codemirror_mode": {
    "name": "ipython",
    "version": 3
   },
   "file_extension": ".py",
   "mimetype": "text/x-python",
   "name": "python",
   "nbconvert_exporter": "python",
   "pygments_lexer": "ipython3",
   "version": "3.6.1"
  }
 },
 "nbformat": 4,
 "nbformat_minor": 2
}
